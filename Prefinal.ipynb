{
 "cells": [
  {
   "cell_type": "raw",
   "id": "bfa2fbfe",
   "metadata": {},
   "source": [
    "# ---\n",
    "# title: \"Anthologie grecque. Visualisations\"\n",
    "# subtitle: \"Potentialités et extensions d'une édition numérique\"\n",
    "# author: \"Mathilde Verstraete\"\n",
    "# format: \n",
    "#   html:\n",
    "#     code-fold: true\n",
    "# jupyter: python3\n",
    "# ---"
   ]
  },
  {
   "cell_type": "markdown",
   "id": "580e05fe-41d8-4c79-a66c-e5004c800db8",
   "metadata": {},
   "source": [
    "## To do \n",
    "- [ ] Indiquer le nombre de modifications\n",
    "- [ ] check bokeh \n",
    "- [ ] check seaborn\n",
    "\n",
    "Suis arrivée à Perfect Epigram. \n",
    "\n",
    "À faire : \n",
    "\n",
    "- [ ] réorganiser les graph pandas \n",
    "- [ ] Mettre Bokeh avant perfect epigram \n",
    "- [ ] faire les viz de perfect epigram \n"
   ]
  },
  {
   "cell_type": "markdown",
   "id": "72d36c5d",
   "metadata": {},
   "source": [
    "## Le projet Anthologie grecque\n",
    "\n",
    "Depuis 2014, la Chaire de Recherche du Canada sur les Écritures Numériques porte le projet d'édition numérique collaborative de l'*Anthologie grecque*. Ce vaste corpus de la littérature grecque a traversé le temps et s'est inscrite sur nombreux de support et media. Au sein de la CRCEN seulement, plusieurs plateforme ont hébergé son contenu. \n",
    "\n",
    "Le projet se trouve désormais sur la plateforme [Anthologiagraeca](https://anthologiagraeca.org/). Celui-ci a bénéficié de l'aide d'environ 150 éditeur·ice·s qui opérèrent 12300 actions sur la plateforme (au 20 avril 2023). \n",
    "\n",
    "Ces contributions sont en réalité des *data*, que nous pouvons désormais manipuler et qui nous permettent d'appréhender l'*Anthologie* d'un autre œil, par le biais de visualisations notamment. Celles-ci ont un double avantage : \n",
    "\n",
    "### a. État d'avancement de la plateforme \n",
    "\n",
    "Plus la plateforme se remplit, plus il devient complexe d'avoir une vision d'ensemble sur l'état d'édition de la plateforme. L'encodage des données selon les standards de l'édition numérique et l'implémentation de l'[API](https://anthologiagraeca.org/api/) nous permettent de visualiser facilement ce qu'il reste à faire pour chacun des livres de l'Anthologie grecque, ou du moins de discerner des priorités. \n",
    "\n",
    "La question du statut ou du degré d'édition des épgirammes de la plateforme est décrit [ici](https://framagit.org/anthologie-palatine/anthologyontology/-/wikis/taskslist).\n",
    "\n",
    "### b. Saisir la réalité de l'*AG* dans son ensemble \n",
    "\n",
    "L'*Anthologie* ne peut se concevoir que comme une œuvre linéaire. En effet, celle-ci est un regroupement d'hétérogènes, dialoguant entre eux par des liens, qu'ils soient tacites ou clairement marqués. \n",
    "\n",
    "Une édition numérique comme celle menée à la CRCEN permet une lecture plus cyclique du corpus, et les visualisations proposées ci-dessous offrent des synthèses variées des différentes facette du l'œuvre. \n",
    "\n",
    "## Ce site \n",
    "\n",
    "Ce site est écrit dans JupyterLab, généré en HTML avec Quarto, déployé sur GitHub Pages et mis à jour quotidiennement grâce à GitHub Actions. Le code est public. \n",
    "\n",
    "Dans la même optique, chaque figure ci-dessous est accompagnée de son code. \n",
    "\n",
    "## Prérequis \n",
    "\n",
    "Il convient tout d'abord d'importer les bibliothèques qui nous seront utiles tout le long de notre démonstration : "
   ]
  },
  {
   "cell_type": "code",
   "execution_count": 5,
   "id": "14439772",
   "metadata": {
    "tags": []
   },
   "outputs": [
    {
     "name": "stdout",
     "output_type": "stream",
     "text": [
      "Import des librairies nécessaires\n"
     ]
    }
   ],
   "source": [
    "import json\n",
    "import requests\n",
    "import csv\n",
    "import pandas as pd\n",
    "import datetime\n",
    "import seaborn as sns\n",
    "import matplotlib.pyplot as plt\n",
    "\n",
    "print(\"Import des librairies nécessaires\")"
   ]
  },
  {
   "cell_type": "markdown",
   "id": "8f9548b4",
   "metadata": {},
   "source": [
    "## Récupérer les données de l'API \n",
    "\n",
    "Avant toute chose, récupérons les données de l'API, en tenant compte qu'elle est paginée. \n",
    "\n",
    "Grâce à GitHub action, nous faisons tourner ce Jupyter Notebook une fois par jour afin de mettre à jour les visualisations avec les nouvelles données encodées. \n",
    "\n",
    "Le code ci-dessous nous permet de récupérer les données de l'API, plus précisément l'endpoint ```passages``` qui nous intéresse. \n",
    "\n",
    "Nos données sont désormais stockées dans la liste ```api_data```. "
   ]
  },
  {
   "cell_type": "code",
   "execution_count": 7,
   "id": "3a610f6e",
   "metadata": {
    "tags": []
   },
   "outputs": [],
   "source": [
    "api_data = []\n",
    "\n",
    "pagination = True\n",
    "\n",
    "c = 0 \n",
    "\n",
    "while pagination == True: \n",
    "    c = c+1\n",
    "    param = {'page': c,}\n",
    "    basic_url = 'https://anthologiagraeca.org/api/'\n",
    "    endpoint = \"passages\"\n",
    "    r = requests.get(basic_url + endpoint,param).json()\n",
    "    if r['next'] is None:\n",
    "        pagination = False\n",
    "    for item in r['results']:\n",
    "        api_data.append(item)"
   ]
  },
  {
   "cell_type": "markdown",
   "id": "ceb053d6",
   "metadata": {},
   "source": [
    "Cette commande nous a permis de stocker toutes les données de l'API dans la liste ```api_data```. \n",
    "\n",
    "Nous pouvons facilement vérifier cela en vérifiant la longueur de la liste : nous devrions obtenir 4134 résultats : le nombre d'épigrammes sur la plateforme. "
   ]
  },
  {
   "cell_type": "code",
   "execution_count": 11,
   "id": "58305bd2",
   "metadata": {
    "tags": []
   },
   "outputs": [
    {
     "name": "stdout",
     "output_type": "stream",
     "text": [
      "La liste api_data contient 4134 entrées\n"
     ]
    }
   ],
   "source": [
    "print(\"La liste api_data contient\",len(api_data), \"entrées\")"
   ]
  },
  {
   "cell_type": "markdown",
   "id": "a4695fec-0758-4ef5-84c4-25770749333b",
   "metadata": {
    "tags": []
   },
   "source": [
    "Voyons également à quoi ressemble la structure des données : "
   ]
  },
  {
   "cell_type": "code",
   "execution_count": 12,
   "id": "9dfae4e4-2ec1-4448-8754-028fc52f0d1f",
   "metadata": {
    "tags": []
   },
   "outputs": [
    {
     "data": {
      "text/plain": [
       "{'id': 438,\n",
       " 'book': {'url': 'https://anthologiagraeca.org/api/books/9/', 'number': 1},\n",
       " 'fragment': 2,\n",
       " 'sub_fragment': '',\n",
       " 'url': 'https://anthologiagraeca.org/api/passages/urn:cts:greekLit:tlg7000.tlg001.ag:1.2/',\n",
       " 'manuscripts': ['http://digi.ub.uni-heidelberg.de/iiif/2/cpgraec23%3A049.jpg/pct:12.466722876141418,19.26407429979108,58.60226718012693,8.23287268450456/full/0/default.jpg'],\n",
       " 'texts': [{'url': 'https://anthologiagraeca.org/api/texts/1627/',\n",
       "   'language': 'grc',\n",
       "   'text': '\\n                      θεῖος Ἰουστῖνος, Σοφίης πόσις, ᾧ πόρε Χριστὸς\\n πάντα διορθοῦσθαι, καὶ κλέος ἐν πολέμοις,\\nμητρὸς ἀπειρογάμοιο δόμον σκάζοντα νοήσας,\\n σαθρὸν ἀποσκεδάσας τεῦξέ μιν ἀσφαλέως.\\n'},\n",
       "  {'url': 'https://anthologiagraeca.org/api/texts/1628/',\n",
       "   'language': 'eng',\n",
       "   'text': 'Inscribed on the Apse of Blachernae\\n\\nThe divine Justin, the husband of Sophia, to whom Christ granted the gift of restoring everything, and glory in war, finding that the temple of the Virgin Mother was tottering, took the decayed part to pieces and built it up again securely. '},\n",
       "  {'url': 'https://anthologiagraeca.org/api/texts/1629/',\n",
       "   'language': 'fra',\n",
       "   'text': \"Gravé sur les absides des Blachernes. \\n\\nLe divin Justin, l'époux de Sophie, à qui le Christ a accordé le rétablissement universel de l'ordre et la gloire dans les combats, voyant chanceler la demeure de la Mère immaculée, en a fait abattre les bâtiments qui tombaient en ruines et les a fait reconstruire solidement. \"},\n",
       "  {'url': 'https://anthologiagraeca.org/api/texts/1630/',\n",
       "   'language': 'por',\n",
       "   'text': 'Na abóboda de Blaquerna\\n\\nO divino Justino, esposo de Sofia, a quem Cristo concedeu o dom de tudo restaurar e a glória em combates, percebendo estar combalida a casa da Mãe Imaculada, demoliu o danificado e reconstruiu solidamente. '}],\n",
       " 'authors': [{'url': 'https://anthologiagraeca.org/api/authors/6/',\n",
       "   'tlg_id': '',\n",
       "   'names': [{'name': 'anónimo', 'language': 'spa'},\n",
       "    {'name': 'anonimo', 'language': 'ita'},\n",
       "    {'name': 'anonyme', 'language': 'fra'},\n",
       "    {'name': 'anónimo', 'language': 'por'},\n",
       "    {'name': 'anonymus', 'language': 'lat'},\n",
       "    {'name': 'anonymous', 'language': 'eng'}]}],\n",
       " 'cities': [],\n",
       " 'keywords': ['https://anthologiagraeca.org/api/keywords/116/',\n",
       "  'https://anthologiagraeca.org/api/keywords/200/'],\n",
       " 'scholia': [{'book': 1,\n",
       "   'fragment': 2,\n",
       "   'sub_fragment': '',\n",
       "   'number': 1,\n",
       "   'url': 'https://anthologiagraeca.org/api/scholia/urn:cts:greekLit:tlg5011.tlg001.sag:1.2.1/'},\n",
       "  {'book': 1,\n",
       "   'fragment': 2,\n",
       "   'sub_fragment': '',\n",
       "   'number': 2,\n",
       "   'url': 'https://anthologiagraeca.org/api/scholia/urn:cts:greekLit:tlg5011.tlg001.sag:1.2.2/'}],\n",
       " 'comments': [],\n",
       " 'external_references': [{'title': 'Église Sainte-Marie des Blachernes',\n",
       "   'url': 'https://fr.wikipedia.org/wiki/%C3%89glise_Sainte-Marie-des-Blachernes'}],\n",
       " 'internal_references': [],\n",
       " 'media': []}"
      ]
     },
     "execution_count": 12,
     "metadata": {},
     "output_type": "execute_result"
    }
   ],
   "source": [
    "api_data[1]"
   ]
  },
  {
   "cell_type": "markdown",
   "id": "3ecfec1b-340c-4d9a-ad9d-5153993f3019",
   "metadata": {},
   "source": [
    "Nous pouvons en outre stocker ces données dans un fichier ```.json```. Vu que ces données sont retéléchargées chaque jour, nous ajoutons un paramètre pour renommer notre fichier en fonction du jour de téléchargement. "
   ]
  },
  {
   "cell_type": "code",
   "execution_count": 14,
   "id": "c9f92b66-2d53-480a-a993-3c4f7de72037",
   "metadata": {
    "tags": []
   },
   "outputs": [],
   "source": [
    "current_date = datetime.datetime.now().date()\n",
    "filename = 'api_json.json'\n",
    "with open(filename, 'w') as js:\n",
    "    json.dump(api_data, js)"
   ]
  },
  {
   "cell_type": "markdown",
   "id": "d96a7fab",
   "metadata": {},
   "source": [
    "## Stocker les données dans un csv pour les manipuler avec panda &#x1F43C;\n",
    "\n",
    "Pandas est une bibliothèque Python permettant de manipuler et d'analyser des données, tout en proposant de simples visualisations. \n",
    "\n",
    "Si le panda &#x1F43C; se nourrit de bambou &#x1F33F;, notre Panda &#x1F40D; se nourrit plutôt de tableaux .csv &#x1F5A5;\n",
    "\n",
    "Nous commencerons par créer un premier fichier .csv, intitulé ```main_info.csv``` dont les colonnes reprendront les informations suivantes : \n",
    "\n",
    "- l'URL de l'épigramme ; \n",
    "- le numéro de l'épigramme ; \n",
    "- le livre de l'épigramme ; \n",
    "- la présence ou non d'un manuscrit ; \n",
    "- le nombre de textes associés à l'épigramme ; \n",
    "- le nombre de mots-clés associés à l'épigramme ; \n",
    "- le nombre de scholies associés à l'épigramme ; \n",
    "- le nombre de commentaires associés à l'épigramme ; \n"
   ]
  },
  {
   "cell_type": "code",
   "execution_count": 15,
   "id": "191ed86a",
   "metadata": {
    "tags": []
   },
   "outputs": [],
   "source": [
    "header = ['URL', 'epigram', 'book', 'manuscripts', 'texts', 'keywords', 'scholia', 'comments']\n",
    "\n",
    "with open('main_info.csv', mode='w', newline='', encoding='utf-8') as file:\n",
    "        writer = csv.DictWriter(file, fieldnames=header)\n",
    "        writer.writeheader()\n",
    "        for row in api_data:\n",
    "            url = row.get('url', '')\n",
    "            epigram = url.split('ag:')[1].split('/')[0] if 'ag:' in url else ''\n",
    "            book = row.get('book', {}).get('number')\n",
    "            manuscripts = True if row.get('manuscripts') else False\n",
    "            texts = len(row.get('texts', []))\n",
    "            keywords = len(row.get('keywords', []))\n",
    "            scholia = len(row.get('scholia', []))\n",
    "            comments = len(row.get('comments', []))\n",
    "            writer.writerow({\n",
    "            'URL': url,\n",
    "            'epigram': epigram,\n",
    "            'book': book,\n",
    "            'manuscripts': manuscripts,\n",
    "            'texts': texts,\n",
    "            'keywords': keywords,\n",
    "            'scholia': scholia,\n",
    "            'comments': comments\n",
    "        })"
   ]
  },
  {
   "cell_type": "markdown",
   "id": "2624e144",
   "metadata": {},
   "source": [
    "Le fichier ```main_info.csv``` a été créé ; nous pouvons désormais le lire et le manipuler.\n",
    "Commençons par en afficher un échantillon aléatoire de 5 lignes : "
   ]
  },
  {
   "cell_type": "code",
   "execution_count": 19,
   "id": "3d03a3c1",
   "metadata": {
    "tags": []
   },
   "outputs": [
    {
     "data": {
      "text/html": [
       "<div>\n",
       "<style scoped>\n",
       "    .dataframe tbody tr th:only-of-type {\n",
       "        vertical-align: middle;\n",
       "    }\n",
       "\n",
       "    .dataframe tbody tr th {\n",
       "        vertical-align: top;\n",
       "    }\n",
       "\n",
       "    .dataframe thead th {\n",
       "        text-align: right;\n",
       "    }\n",
       "</style>\n",
       "<table border=\"1\" class=\"dataframe\">\n",
       "  <thead>\n",
       "    <tr style=\"text-align: right;\">\n",
       "      <th></th>\n",
       "      <th>URL</th>\n",
       "      <th>epigram</th>\n",
       "      <th>book</th>\n",
       "      <th>manuscripts</th>\n",
       "      <th>texts</th>\n",
       "      <th>keywords</th>\n",
       "      <th>scholia</th>\n",
       "      <th>comments</th>\n",
       "    </tr>\n",
       "  </thead>\n",
       "  <tbody>\n",
       "    <tr>\n",
       "      <th>393</th>\n",
       "      <td>https://anthologiagraeca.org/api/passages/urn:...</td>\n",
       "      <td>5.236</td>\n",
       "      <td>5</td>\n",
       "      <td>True</td>\n",
       "      <td>3</td>\n",
       "      <td>4</td>\n",
       "      <td>2</td>\n",
       "      <td>0</td>\n",
       "    </tr>\n",
       "    <tr>\n",
       "      <th>3608</th>\n",
       "      <td>https://anthologiagraeca.org/api/passages/urn:...</td>\n",
       "      <td>14.74</td>\n",
       "      <td>14</td>\n",
       "      <td>False</td>\n",
       "      <td>3</td>\n",
       "      <td>0</td>\n",
       "      <td>0</td>\n",
       "      <td>0</td>\n",
       "    </tr>\n",
       "    <tr>\n",
       "      <th>2816</th>\n",
       "      <td>https://anthologiagraeca.org/api/passages/urn:...</td>\n",
       "      <td>11.16</td>\n",
       "      <td>11</td>\n",
       "      <td>True</td>\n",
       "      <td>3</td>\n",
       "      <td>9</td>\n",
       "      <td>0</td>\n",
       "      <td>0</td>\n",
       "    </tr>\n",
       "    <tr>\n",
       "      <th>968</th>\n",
       "      <td>https://anthologiagraeca.org/api/passages/urn:...</td>\n",
       "      <td>7.140</td>\n",
       "      <td>7</td>\n",
       "      <td>True</td>\n",
       "      <td>4</td>\n",
       "      <td>10</td>\n",
       "      <td>3</td>\n",
       "      <td>1</td>\n",
       "    </tr>\n",
       "    <tr>\n",
       "      <th>1360</th>\n",
       "      <td>https://anthologiagraeca.org/api/passages/urn:...</td>\n",
       "      <td>7.527</td>\n",
       "      <td>7</td>\n",
       "      <td>True</td>\n",
       "      <td>4</td>\n",
       "      <td>6</td>\n",
       "      <td>2</td>\n",
       "      <td>0</td>\n",
       "    </tr>\n",
       "  </tbody>\n",
       "</table>\n",
       "</div>"
      ],
      "text/plain": [
       "                                                    URL epigram  book  \\\n",
       "393   https://anthologiagraeca.org/api/passages/urn:...   5.236     5   \n",
       "3608  https://anthologiagraeca.org/api/passages/urn:...   14.74    14   \n",
       "2816  https://anthologiagraeca.org/api/passages/urn:...   11.16    11   \n",
       "968   https://anthologiagraeca.org/api/passages/urn:...   7.140     7   \n",
       "1360  https://anthologiagraeca.org/api/passages/urn:...   7.527     7   \n",
       "\n",
       "      manuscripts  texts  keywords  scholia  comments  \n",
       "393          True      3         4        2         0  \n",
       "3608        False      3         0        0         0  \n",
       "2816         True      3         9        0         0  \n",
       "968          True      4        10        3         1  \n",
       "1360         True      4         6        2         0  "
      ]
     },
     "execution_count": 19,
     "metadata": {},
     "output_type": "execute_result"
    }
   ],
   "source": [
    "api_data_df = pd.read_csv('main_info.csv', delimiter=\",\")\n",
    "\n",
    "api_data_df.sample(5)"
   ]
  },
  {
   "cell_type": "markdown",
   "id": "2efe92de",
   "metadata": {},
   "source": [
    "## Focus sur les textes \n",
    "\n",
    "Dans cette section, nous nous intéresserons principalement aux nombre de textes qu'ont les épigrammes sur notre plateforme. \n",
    "\n",
    "Commençons dès lors par afficher dans notre table les données qui nous intéressent. "
   ]
  },
  {
   "cell_type": "code",
   "execution_count": 20,
   "id": "32002059",
   "metadata": {
    "tags": []
   },
   "outputs": [
    {
     "data": {
      "text/html": [
       "<div>\n",
       "<style scoped>\n",
       "    .dataframe tbody tr th:only-of-type {\n",
       "        vertical-align: middle;\n",
       "    }\n",
       "\n",
       "    .dataframe tbody tr th {\n",
       "        vertical-align: top;\n",
       "    }\n",
       "\n",
       "    .dataframe thead th {\n",
       "        text-align: right;\n",
       "    }\n",
       "</style>\n",
       "<table border=\"1\" class=\"dataframe\">\n",
       "  <thead>\n",
       "    <tr style=\"text-align: right;\">\n",
       "      <th></th>\n",
       "      <th>book</th>\n",
       "      <th>epigram</th>\n",
       "      <th>texts</th>\n",
       "    </tr>\n",
       "  </thead>\n",
       "  <tbody>\n",
       "    <tr>\n",
       "      <th>0</th>\n",
       "      <td>1</td>\n",
       "      <td>1.1</td>\n",
       "      <td>4</td>\n",
       "    </tr>\n",
       "    <tr>\n",
       "      <th>1</th>\n",
       "      <td>1</td>\n",
       "      <td>1.2</td>\n",
       "      <td>4</td>\n",
       "    </tr>\n",
       "    <tr>\n",
       "      <th>2</th>\n",
       "      <td>1</td>\n",
       "      <td>1.3</td>\n",
       "      <td>4</td>\n",
       "    </tr>\n",
       "    <tr>\n",
       "      <th>3</th>\n",
       "      <td>1</td>\n",
       "      <td>1.4</td>\n",
       "      <td>4</td>\n",
       "    </tr>\n",
       "    <tr>\n",
       "      <th>4</th>\n",
       "      <td>1</td>\n",
       "      <td>1.5</td>\n",
       "      <td>4</td>\n",
       "    </tr>\n",
       "    <tr>\n",
       "      <th>...</th>\n",
       "      <td>...</td>\n",
       "      <td>...</td>\n",
       "      <td>...</td>\n",
       "    </tr>\n",
       "    <tr>\n",
       "      <th>4129</th>\n",
       "      <td>16</td>\n",
       "      <td>16.384</td>\n",
       "      <td>2</td>\n",
       "    </tr>\n",
       "    <tr>\n",
       "      <th>4130</th>\n",
       "      <td>16</td>\n",
       "      <td>16.385</td>\n",
       "      <td>2</td>\n",
       "    </tr>\n",
       "    <tr>\n",
       "      <th>4131</th>\n",
       "      <td>16</td>\n",
       "      <td>16.386</td>\n",
       "      <td>2</td>\n",
       "    </tr>\n",
       "    <tr>\n",
       "      <th>4132</th>\n",
       "      <td>16</td>\n",
       "      <td>16.387</td>\n",
       "      <td>2</td>\n",
       "    </tr>\n",
       "    <tr>\n",
       "      <th>4133</th>\n",
       "      <td>16</td>\n",
       "      <td>16.388</td>\n",
       "      <td>2</td>\n",
       "    </tr>\n",
       "  </tbody>\n",
       "</table>\n",
       "<p>4134 rows × 3 columns</p>\n",
       "</div>"
      ],
      "text/plain": [
       "      book epigram  texts\n",
       "0        1     1.1      4\n",
       "1        1     1.2      4\n",
       "2        1     1.3      4\n",
       "3        1     1.4      4\n",
       "4        1     1.5      4\n",
       "...    ...     ...    ...\n",
       "4129    16  16.384      2\n",
       "4130    16  16.385      2\n",
       "4131    16  16.386      2\n",
       "4132    16  16.387      2\n",
       "4133    16  16.388      2\n",
       "\n",
       "[4134 rows x 3 columns]"
      ]
     },
     "execution_count": 20,
     "metadata": {},
     "output_type": "execute_result"
    }
   ],
   "source": [
    "api_data_df[['book','epigram','texts']]"
   ]
  },
  {
   "cell_type": "markdown",
   "id": "18012cce",
   "metadata": {},
   "source": [
    "Avant d'aller plus loin, nous pouvons déjà nous rendre compte et visualiser (sous plusieurs formes différentes) combien de textes ont les épigrammes:"
   ]
  },
  {
   "cell_type": "code",
   "execution_count": 21,
   "id": "35a18f71",
   "metadata": {
    "tags": []
   },
   "outputs": [
    {
     "data": {
      "text/plain": [
       "3     1563\n",
       "1      888\n",
       "4      877\n",
       "2      553\n",
       "5      176\n",
       "6       55\n",
       "7        9\n",
       "8        6\n",
       "9        4\n",
       "0        2\n",
       "11       1\n",
       "Name: texts, dtype: int64"
      ]
     },
     "execution_count": 21,
     "metadata": {},
     "output_type": "execute_result"
    }
   ],
   "source": [
    "api_data_df['texts'].value_counts()"
   ]
  },
  {
   "cell_type": "markdown",
   "id": "17493cf9",
   "metadata": {},
   "source": [
    "La plupart des épigrammes, 1598, ont trois textes ; une épigramme possède même 11 textes ! Par contre, 888 épigrammes n'ont encore qu'un seul texte. \n",
    "Pour connaitre les épigrammes dont il est question, nous pouvons appliquer un filtre, comme ceci : "
   ]
  },
  {
   "cell_type": "code",
   "execution_count": 22,
   "id": "d65a693c",
   "metadata": {
    "tags": []
   },
   "outputs": [],
   "source": [
    "eleven_texts_filter = api_data_df['texts'] == 11\n",
    "one_text_filter = api_data_df['texts'] == 1"
   ]
  },
  {
   "cell_type": "code",
   "execution_count": 23,
   "id": "1c4fe633",
   "metadata": {
    "tags": []
   },
   "outputs": [
    {
     "data": {
      "text/html": [
       "<div>\n",
       "<style scoped>\n",
       "    .dataframe tbody tr th:only-of-type {\n",
       "        vertical-align: middle;\n",
       "    }\n",
       "\n",
       "    .dataframe tbody tr th {\n",
       "        vertical-align: top;\n",
       "    }\n",
       "\n",
       "    .dataframe thead th {\n",
       "        text-align: right;\n",
       "    }\n",
       "</style>\n",
       "<table border=\"1\" class=\"dataframe\">\n",
       "  <thead>\n",
       "    <tr style=\"text-align: right;\">\n",
       "      <th></th>\n",
       "      <th>URL</th>\n",
       "      <th>epigram</th>\n",
       "      <th>book</th>\n",
       "      <th>manuscripts</th>\n",
       "      <th>texts</th>\n",
       "      <th>keywords</th>\n",
       "      <th>scholia</th>\n",
       "      <th>comments</th>\n",
       "    </tr>\n",
       "  </thead>\n",
       "  <tbody>\n",
       "    <tr>\n",
       "      <th>1912</th>\n",
       "      <td>https://anthologiagraeca.org/api/passages/urn:...</td>\n",
       "      <td>9.70</td>\n",
       "      <td>9</td>\n",
       "      <td>True</td>\n",
       "      <td>11</td>\n",
       "      <td>0</td>\n",
       "      <td>1</td>\n",
       "      <td>0</td>\n",
       "    </tr>\n",
       "  </tbody>\n",
       "</table>\n",
       "</div>"
      ],
      "text/plain": [
       "                                                    URL epigram  book  \\\n",
       "1912  https://anthologiagraeca.org/api/passages/urn:...    9.70     9   \n",
       "\n",
       "      manuscripts  texts  keywords  scholia  comments  \n",
       "1912         True     11         0        1         0  "
      ]
     },
     "execution_count": 23,
     "metadata": {},
     "output_type": "execute_result"
    }
   ],
   "source": [
    "api_data_df[eleven_texts_filter]"
   ]
  },
  {
   "cell_type": "code",
   "execution_count": 24,
   "id": "5a86ff4b",
   "metadata": {
    "tags": []
   },
   "outputs": [
    {
     "data": {
      "text/html": [
       "<div>\n",
       "<style scoped>\n",
       "    .dataframe tbody tr th:only-of-type {\n",
       "        vertical-align: middle;\n",
       "    }\n",
       "\n",
       "    .dataframe tbody tr th {\n",
       "        vertical-align: top;\n",
       "    }\n",
       "\n",
       "    .dataframe thead th {\n",
       "        text-align: right;\n",
       "    }\n",
       "</style>\n",
       "<table border=\"1\" class=\"dataframe\">\n",
       "  <thead>\n",
       "    <tr style=\"text-align: right;\">\n",
       "      <th></th>\n",
       "      <th>URL</th>\n",
       "      <th>epigram</th>\n",
       "      <th>book</th>\n",
       "      <th>manuscripts</th>\n",
       "      <th>texts</th>\n",
       "      <th>keywords</th>\n",
       "      <th>scholia</th>\n",
       "      <th>comments</th>\n",
       "    </tr>\n",
       "  </thead>\n",
       "  <tbody>\n",
       "    <tr>\n",
       "      <th>133</th>\n",
       "      <td>https://anthologiagraeca.org/api/passages/urn:...</td>\n",
       "      <td>3.1</td>\n",
       "      <td>3</td>\n",
       "      <td>False</td>\n",
       "      <td>1</td>\n",
       "      <td>0</td>\n",
       "      <td>2</td>\n",
       "      <td>0</td>\n",
       "    </tr>\n",
       "    <tr>\n",
       "      <th>134</th>\n",
       "      <td>https://anthologiagraeca.org/api/passages/urn:...</td>\n",
       "      <td>3.2</td>\n",
       "      <td>3</td>\n",
       "      <td>False</td>\n",
       "      <td>1</td>\n",
       "      <td>0</td>\n",
       "      <td>0</td>\n",
       "      <td>0</td>\n",
       "    </tr>\n",
       "    <tr>\n",
       "      <th>135</th>\n",
       "      <td>https://anthologiagraeca.org/api/passages/urn:...</td>\n",
       "      <td>3.3</td>\n",
       "      <td>3</td>\n",
       "      <td>False</td>\n",
       "      <td>1</td>\n",
       "      <td>0</td>\n",
       "      <td>0</td>\n",
       "      <td>0</td>\n",
       "    </tr>\n",
       "    <tr>\n",
       "      <th>136</th>\n",
       "      <td>https://anthologiagraeca.org/api/passages/urn:...</td>\n",
       "      <td>3.4</td>\n",
       "      <td>3</td>\n",
       "      <td>False</td>\n",
       "      <td>1</td>\n",
       "      <td>0</td>\n",
       "      <td>0</td>\n",
       "      <td>0</td>\n",
       "    </tr>\n",
       "    <tr>\n",
       "      <th>137</th>\n",
       "      <td>https://anthologiagraeca.org/api/passages/urn:...</td>\n",
       "      <td>3.5</td>\n",
       "      <td>3</td>\n",
       "      <td>False</td>\n",
       "      <td>1</td>\n",
       "      <td>0</td>\n",
       "      <td>0</td>\n",
       "      <td>0</td>\n",
       "    </tr>\n",
       "    <tr>\n",
       "      <th>...</th>\n",
       "      <td>...</td>\n",
       "      <td>...</td>\n",
       "      <td>...</td>\n",
       "      <td>...</td>\n",
       "      <td>...</td>\n",
       "      <td>...</td>\n",
       "      <td>...</td>\n",
       "      <td>...</td>\n",
       "    </tr>\n",
       "    <tr>\n",
       "      <th>4121</th>\n",
       "      <td>https://anthologiagraeca.org/api/passages/urn:...</td>\n",
       "      <td>16.376</td>\n",
       "      <td>16</td>\n",
       "      <td>False</td>\n",
       "      <td>1</td>\n",
       "      <td>0</td>\n",
       "      <td>0</td>\n",
       "      <td>0</td>\n",
       "    </tr>\n",
       "    <tr>\n",
       "      <th>4122</th>\n",
       "      <td>https://anthologiagraeca.org/api/passages/urn:...</td>\n",
       "      <td>16.377</td>\n",
       "      <td>16</td>\n",
       "      <td>False</td>\n",
       "      <td>1</td>\n",
       "      <td>0</td>\n",
       "      <td>0</td>\n",
       "      <td>0</td>\n",
       "    </tr>\n",
       "    <tr>\n",
       "      <th>4123</th>\n",
       "      <td>https://anthologiagraeca.org/api/passages/urn:...</td>\n",
       "      <td>16.378</td>\n",
       "      <td>16</td>\n",
       "      <td>False</td>\n",
       "      <td>1</td>\n",
       "      <td>0</td>\n",
       "      <td>0</td>\n",
       "      <td>0</td>\n",
       "    </tr>\n",
       "    <tr>\n",
       "      <th>4124</th>\n",
       "      <td>https://anthologiagraeca.org/api/passages/urn:...</td>\n",
       "      <td>16.379</td>\n",
       "      <td>16</td>\n",
       "      <td>False</td>\n",
       "      <td>1</td>\n",
       "      <td>0</td>\n",
       "      <td>0</td>\n",
       "      <td>0</td>\n",
       "    </tr>\n",
       "    <tr>\n",
       "      <th>4125</th>\n",
       "      <td>https://anthologiagraeca.org/api/passages/urn:...</td>\n",
       "      <td>16.380</td>\n",
       "      <td>16</td>\n",
       "      <td>False</td>\n",
       "      <td>1</td>\n",
       "      <td>0</td>\n",
       "      <td>0</td>\n",
       "      <td>0</td>\n",
       "    </tr>\n",
       "  </tbody>\n",
       "</table>\n",
       "<p>888 rows × 8 columns</p>\n",
       "</div>"
      ],
      "text/plain": [
       "                                                    URL epigram  book  \\\n",
       "133   https://anthologiagraeca.org/api/passages/urn:...     3.1     3   \n",
       "134   https://anthologiagraeca.org/api/passages/urn:...     3.2     3   \n",
       "135   https://anthologiagraeca.org/api/passages/urn:...     3.3     3   \n",
       "136   https://anthologiagraeca.org/api/passages/urn:...     3.4     3   \n",
       "137   https://anthologiagraeca.org/api/passages/urn:...     3.5     3   \n",
       "...                                                 ...     ...   ...   \n",
       "4121  https://anthologiagraeca.org/api/passages/urn:...  16.376    16   \n",
       "4122  https://anthologiagraeca.org/api/passages/urn:...  16.377    16   \n",
       "4123  https://anthologiagraeca.org/api/passages/urn:...  16.378    16   \n",
       "4124  https://anthologiagraeca.org/api/passages/urn:...  16.379    16   \n",
       "4125  https://anthologiagraeca.org/api/passages/urn:...  16.380    16   \n",
       "\n",
       "      manuscripts  texts  keywords  scholia  comments  \n",
       "133         False      1         0        2         0  \n",
       "134         False      1         0        0         0  \n",
       "135         False      1         0        0         0  \n",
       "136         False      1         0        0         0  \n",
       "137         False      1         0        0         0  \n",
       "...           ...    ...       ...      ...       ...  \n",
       "4121        False      1         0        0         0  \n",
       "4122        False      1         0        0         0  \n",
       "4123        False      1         0        0         0  \n",
       "4124        False      1         0        0         0  \n",
       "4125        False      1         0        0         0  \n",
       "\n",
       "[888 rows x 8 columns]"
      ]
     },
     "execution_count": 24,
     "metadata": {},
     "output_type": "execute_result"
    }
   ],
   "source": [
    "api_data_df[one_text_filter]"
   ]
  },
  {
   "cell_type": "markdown",
   "id": "e0d80079-6c05-482b-bc29-a8b0f6fbed79",
   "metadata": {},
   "source": [
    "Mais le but de notre expérience est de visualiser nos données ; toujours avec ```Pandas``` dans un premier temps, affichons combien de textes ont les épigrammes : "
   ]
  },
  {
   "cell_type": "code",
   "execution_count": 33,
   "id": "81aed1ff-693c-499f-a0b7-0f27a087b6bb",
   "metadata": {
    "tags": []
   },
   "outputs": [
    {
     "data": {
      "image/png": "[encoded data removed]",
      "text/plain": [
       "<Figure size 432x288 with 1 Axes>"
      ]
     },
     "metadata": {
      "needs_background": "light"
     },
     "output_type": "display_data"
    },
    {
     "data": {
      "image/png": "[encoded data removed]",
      "text/plain": [
       "<Figure size 432x288 with 1 Axes>"
      ]
     },
     "metadata": {},
     "output_type": "display_data"
    }
   ],
   "source": [
    "#| label: epigrams_texts\n",
    "#| fig-cap: \"Combien de textes ont les épigrammes?\"\n",
    "#| fig-subcap: \n",
    "#|   - \"Une visualisation en *plots*,\"\n",
    "#|   - \"et une autre en *pie*.\"\n",
    "#| layout-ncol: 2\n",
    "\n",
    "\n",
    "\n",
    "\n",
    "\n",
    "api_data_df['texts'].value_counts().plot(kind='bar')\n",
    "plt.show()",
    "\n",
    "api_data_df['texts'].value_counts().plot(kind='pie')\n",
    "plt.show()"
   ]
  },
  {
   "cell_type": "markdown",
   "id": "1a1c19e7",
   "metadata": {},
   "source": [
    "Pour résumer, quel est le nombre moyen de textes par épigramme ? Et quelle est la médiane de textes par épigramme ? "
   ]
  },
  {
   "cell_type": "code",
   "execution_count": 56,
   "id": "051731fa",
   "metadata": {
    "tags": []
   },
   "outputs": [
    {
     "name": "stdout",
     "output_type": "stream",
     "text": [
      "les épigrammes ont en moyenne 2.7960812772133528 textes\n",
      "la médiane des textes par épigramme est de 3.0\n"
     ]
    }
   ],
   "source": [
    "print(\"les épigrammes ont en moyenne\", api_data_df['texts'].mean(), \"textes\")\n",
    "\n",
    "print(\"la médiane des textes par épigramme est de\", api_data_df['texts'].median())"
   ]
  },
  {
   "cell_type": "markdown",
   "id": "341e2d8b",
   "metadata": {},
   "source": [
    "Quelle est le nombre moyen de textes par épigramme selon les livres ? "
   ]
  },
  {
   "cell_type": "code",
   "execution_count": 57,
   "id": "7fc8d90f",
   "metadata": {
    "tags": []
   },
   "outputs": [
    {
     "data": {
      "text/html": [
       "<div>\n",
       "<style scoped>\n",
       "    .dataframe tbody tr th:only-of-type {\n",
       "        vertical-align: middle;\n",
       "    }\n",
       "\n",
       "    .dataframe tbody tr th {\n",
       "        vertical-align: top;\n",
       "    }\n",
       "\n",
       "    .dataframe thead th {\n",
       "        text-align: right;\n",
       "    }\n",
       "</style>\n",
       "<table border=\"1\" class=\"dataframe\">\n",
       "  <thead>\n",
       "    <tr style=\"text-align: right;\">\n",
       "      <th></th>\n",
       "      <th>texts</th>\n",
       "    </tr>\n",
       "    <tr>\n",
       "      <th>book</th>\n",
       "      <th></th>\n",
       "    </tr>\n",
       "  </thead>\n",
       "  <tbody>\n",
       "    <tr>\n",
       "      <th>1</th>\n",
       "      <td>3.373984</td>\n",
       "    </tr>\n",
       "    <tr>\n",
       "      <th>2</th>\n",
       "      <td>2.000000</td>\n",
       "    </tr>\n",
       "    <tr>\n",
       "      <th>3</th>\n",
       "      <td>1.000000</td>\n",
       "    </tr>\n",
       "    <tr>\n",
       "      <th>4</th>\n",
       "      <td>4.800000</td>\n",
       "    </tr>\n",
       "    <tr>\n",
       "      <th>5</th>\n",
       "      <td>3.819355</td>\n",
       "    </tr>\n",
       "    <tr>\n",
       "      <th>6</th>\n",
       "      <td>3.030641</td>\n",
       "    </tr>\n",
       "    <tr>\n",
       "      <th>7</th>\n",
       "      <td>4.036939</td>\n",
       "    </tr>\n",
       "    <tr>\n",
       "      <th>8</th>\n",
       "      <td>3.364341</td>\n",
       "    </tr>\n",
       "    <tr>\n",
       "      <th>9</th>\n",
       "      <td>2.098676</td>\n",
       "    </tr>\n",
       "    <tr>\n",
       "      <th>10</th>\n",
       "      <td>1.283465</td>\n",
       "    </tr>\n",
       "    <tr>\n",
       "      <th>11</th>\n",
       "      <td>3.033860</td>\n",
       "    </tr>\n",
       "    <tr>\n",
       "      <th>12</th>\n",
       "      <td>3.565385</td>\n",
       "    </tr>\n",
       "    <tr>\n",
       "      <th>13</th>\n",
       "      <td>1.250000</td>\n",
       "    </tr>\n",
       "    <tr>\n",
       "      <th>14</th>\n",
       "      <td>1.258278</td>\n",
       "    </tr>\n",
       "    <tr>\n",
       "      <th>15</th>\n",
       "      <td>1.019231</td>\n",
       "    </tr>\n",
       "    <tr>\n",
       "      <th>16</th>\n",
       "      <td>1.060606</td>\n",
       "    </tr>\n",
       "  </tbody>\n",
       "</table>\n",
       "</div>"
      ],
      "text/plain": [
       "         texts\n",
       "book          \n",
       "1     3.373984\n",
       "2     2.000000\n",
       "3     1.000000\n",
       "4     4.800000\n",
       "5     3.819355\n",
       "6     3.030641\n",
       "7     4.036939\n",
       "8     3.364341\n",
       "9     2.098676\n",
       "10    1.283465\n",
       "11    3.033860\n",
       "12    3.565385\n",
       "13    1.250000\n",
       "14    1.258278\n",
       "15    1.019231\n",
       "16    1.060606"
      ]
     },
     "execution_count": 57,
     "metadata": {},
     "output_type": "execute_result"
    }
   ],
   "source": [
    "api_data_df[['book', 'texts']].groupby('book').mean()"
   ]
  },
  {
   "cell_type": "markdown",
   "id": "e766df8d-044d-40a2-a1ef-3c8e78f1e243",
   "metadata": {},
   "source": [
    "Visualisons ce tableau dans un graphique qui nous indique le nombre moyen qu'ont les épigrammes de chacun des livres : "
   ]
  },
  {
   "cell_type": "code",
   "execution_count": 58,
   "id": "395ea4f8",
   "metadata": {
    "tags": []
   },
   "outputs": [
    {
     "data": {
      "text/plain": [
       "<AxesSubplot:title={'center':\"Moyenne des textes par épigrammes dans les livres de l'AG\"}, xlabel='book'>"
      ]
     },
     "execution_count": 58,
     "metadata": {},
     "output_type": "execute_result"
    },
    {
     "data": {
      "image/png": "[encoded data removed]",
      "text/plain": [
       "<Figure size 432x288 with 1 Axes>"
      ]
     },
     "metadata": {
      "needs_background": "light"
     },
     "output_type": "display_data"
    }
   ],
   "source": [
    "api_data_df[['book', 'texts']].groupby('book').mean().plot(kind='bar', title=\"Moyenne des textes par épigrammes dans les livres de l'AG\")"
   ]
  },
  {
   "cell_type": "markdown",
   "id": "2ba95469",
   "metadata": {},
   "source": [
    "Dans une même idée, nous pouvons montrer le nombre d'épigrammes par livre... "
   ]
  },
  {
   "cell_type": "code",
   "execution_count": 64,
   "id": "e2f73205",
   "metadata": {
    "tags": []
   },
   "outputs": [
    {
     "data": {
      "text/plain": [
       "<AxesSubplot:title={'center':'text'}>"
      ]
     },
     "execution_count": 64,
     "metadata": {},
     "output_type": "execute_result"
    },
    {
     "data": {
      "image/png": "[encoded data removed]",
      "text/plain": [
       "<Figure size 432x288 with 1 Axes>"
      ]
     },
     "metadata": {
      "needs_background": "light"
     },
     "output_type": "display_data"
    }
   ],
   "source": [
    "api_data_df['book'].value_counts().plot.bar(title='text')"
   ]
  },
  {
   "cell_type": "code",
   "execution_count": 71,
   "id": "80284199-2653-4d84-92b6-117a493b61b3",
   "metadata": {
    "tags": []
   },
   "outputs": [],
   "source": [
    "book_counts = api_data_df['book'].value_counts()\n",
    "book_counts_sorted = book_counts.sort_values(ascending=True)"
   ]
  },
  {
   "cell_type": "code",
   "execution_count": 73,
   "id": "183c2538-8985-433e-8ecf-0206de19aedd",
   "metadata": {
    "tags": []
   },
   "outputs": [
    {
     "data": {
      "image/png": "[encoded data removed]",
      "text/plain": [
       "<Figure size 432x288 with 1 Axes>"
      ]
     },
     "metadata": {
      "needs_background": "light"
     },
     "output_type": "display_data"
    }
   ],
   "source": [
    "plt.bar(book_counts_sorted.index, book_counts_sorted)\n",
    "plt.xlabel('Livre')\n",
    "plt.ylabel('Compte')\n",
    "plt.title(\"Combien d'épigrammes a chaque livre\")\n",
    "plt.xticks(rotation=90)  # Pour faire pivoter les étiquettes de l'axe x si nécessaire\n",
    "plt.show()"
   ]
  },
  {
   "cell_type": "markdown",
   "id": "d4b43cef",
   "metadata": {},
   "source": [
    "## Perfect Epigram"
   ]
  },
  {
   "cell_type": "code",
   "execution_count": 32,
   "id": "f6a9f9f0",
   "metadata": {},
   "outputs": [],
   "source": []
  },
  {
   "cell_type": "code",
   "execution_count": 33,
   "id": "0656371d",
   "metadata": {},
   "outputs": [],
   "source": [
    "mykw = []\n",
    "for i in range(len(api_data)):\n",
    "    book_ = api_data[i]['book']['number']\n",
    "    count_ = len([i for i in api_data[i]['keywords']])\n",
    "    url_ = api_data[i]['url']\n",
    "    mykw.append({'book':book_,'count':count_, 'url':url_})\n",
    "mykw_df = pd.DataFrame(mykw)"
   ]
  },
  {
   "cell_type": "code",
   "execution_count": 34,
   "id": "ab33fd03",
   "metadata": {},
   "outputs": [],
   "source": [
    "#df_ = mykw_df.groupby('count',as_index=False)['url'].agg(list)\n",
    "#df_[df_['count']==53]['url'].tolist()"
   ]
  },
  {
   "cell_type": "code",
   "execution_count": 35,
   "id": "117f146b",
   "metadata": {},
   "outputs": [
    {
     "data": {
      "text/plain": [
       "<AxesSubplot:xlabel='book'>"
      ]
     },
     "execution_count": 87,
     "metadata": {},
     "output_type": "execute_result"
    },
    {
     "data": {
      "image/png": "[encoded data removed]",
      "text/plain": [
       "<Figure size 800x500 with 2 Axes>"
      ]
     },
     "metadata": {
      "image/png": {
       "height": 440,
       "width": 625
      },
      "needs_background": "light"
     },
     "output_type": "display_data"
    }
   ],
   "source": [
    "def myapply(df):\n",
    "    #print(df['count'].value_counts())\n",
    "    mylist = [0,1,2,5,10,60]\n",
    "    mycounts = pd.cut(df['count'], mylist, right=False, labels=[\"0\",\"1\",\"2-4\",\"5-9\",\"10-59\"]).value_counts()\n",
    "    mydict = mycounts.to_dict()\n",
    "    mydict['book'] = df['book'].values[0]\n",
    "    return pd.Series(mydict).to_frame().T\n",
    "\n",
    "dict_list = mykw_df.groupby('book',as_index=False).apply(myapply)\n",
    "count_df = dict_list.reset_index(drop=True)\n",
    "count_df = count_df.set_index('book')\n",
    "count_df_ = count_df[[\"0\",\"1\",\"2-4\",\"5-9\",\"10-59\"][::-1]]\n",
    "import numpy  as np\n",
    "#count_df_.loc[:] = np.log(count_df_.values)\n",
    "plt.figure(dpi=100,figsize=(8,5))\n",
    "sns.heatmap(count_df_.T,annot=True,fmt='d')"
   ]
  },
  {
   "cell_type": "code",
   "execution_count": 36,
   "id": "654cf776",
   "metadata": {},
   "outputs": [
    {
     "name": "stdout",
     "output_type": "stream",
     "text": [
      "0     1909\n",
      "1      378\n",
      "4      330\n",
      "7      291\n",
      "6      269\n",
      "8      239\n",
      "2      168\n",
      "5      167\n",
      "9      152\n",
      "3       85\n",
      "10      76\n",
      "11      35\n",
      "12      20\n",
      "14       5\n",
      "13       3\n",
      "20       1\n",
      "19       1\n",
      "53       1\n",
      "16       1\n",
      "18       1\n",
      "15       1\n",
      "17       1\n",
      "Name: count, dtype: int64\n"
     ]
    }
   ],
   "source": [
    "print(mykw_df['count'].value_counts())"
   ]
  },
  {
   "cell_type": "code",
   "execution_count": 37,
   "id": "f859fc38",
   "metadata": {},
   "outputs": [
    {
     "data": {
      "text/plain": [
       "-50"
      ]
     },
     "execution_count": 89,
     "metadata": {},
     "output_type": "execute_result"
    }
   ],
   "source": [
    "0\n",
    "1 \n",
    "2-4 \n",
    "5-9\n",
    "10-60"
   ]
  },
  {
   "cell_type": "code",
   "execution_count": 38,
   "id": "e6917568",
   "metadata": {},
   "outputs": [],
   "source": []
  },
  {
   "cell_type": "code",
   "execution_count": 39,
   "id": "287362b8",
   "metadata": {},
   "outputs": [],
   "source": []
  },
  {
   "cell_type": "markdown",
   "id": "da0b02ab",
   "metadata": {},
   "source": [
    "### BOKEH"
   ]
  },
  {
   "cell_type": "code",
   "execution_count": 40,
   "id": "d36b84a7",
   "metadata": {},
   "outputs": [
    {
     "data": {
      "text/html": [
       "<style>\n",
       "        .bk-notebook-logo {\n",
       "            display: block;\n",
       "            width: 20px;\n",
       "            height: 20px;\n",
       "            background-image: url(data:image/png;base64,iVBORw0KGgoAAAANSUhEUgAAABQAAAAUCAYAAACNiR0NAAAABHNCSVQICAgIfAhkiAAAAAlwSFlzAAALEgAACxIB0t1+/AAAABx0RVh0U29mdHdhcmUAQWRvYmUgRmlyZXdvcmtzIENTNui8sowAAAOkSURBVDiNjZRtaJVlGMd/1/08zzln5zjP1LWcU9N0NkN8m2CYjpgQYQXqSs0I84OLIC0hkEKoPtiH3gmKoiJDU7QpLgoLjLIQCpEsNJ1vqUOdO7ppbuec5+V+rj4ctwzd8IIbbi6u+8f1539dt3A78eXC7QizUF7gyV1fD1Yqg4JWz84yffhm0qkFqBogB9rM8tZdtwVsPUhWhGcFJngGeWrPzHm5oaMmkfEg1usvLFyc8jLRqDOMru7AyC8saQr7GG7f5fvDeH7Ej8CM66nIF+8yngt6HWaKh7k49Soy9nXurCi1o3qUbS3zWfrYeQDTB/Qj6kX6Ybhw4B+bOYoLKCC9H3Nu/leUTZ1JdRWkkn2ldcCamzrcf47KKXdAJllSlxAOkRgyHsGC/zRday5Qld9DyoM4/q/rUoy/CXh3jzOu3bHUVZeU+DEn8FInkPBFlu3+nW3Nw0mk6vCDiWg8CeJaxEwuHS3+z5RgY+YBR6V1Z1nxSOfoaPa4LASWxxdNp+VWTk7+4vzaou8v8PN+xo+KY2xsw6une2frhw05CTYOmQvsEhjhWjn0bmXPjpE1+kplmmkP3suftwTubK9Vq22qKmrBhpY4jvd5afdRA3wGjFAgcnTK2s4hY0/GPNIb0nErGMCRxWOOX64Z8RAC4oCXdklmEvcL8o0BfkNK4lUg9HTl+oPlQxdNo3Mg4Nv175e/1LDGzZen30MEjRUtmXSfiTVu1kK8W4txyV6BMKlbgk3lMwYCiusNy9fVfvvwMxv8Ynl6vxoByANLTWplvuj/nF9m2+PDtt1eiHPBr1oIfhCChQMBw6Aw0UulqTKZdfVvfG7VcfIqLG9bcldL/+pdWTLxLUy8Qq38heUIjh4XlzZxzQm19lLFlr8vdQ97rjZVOLf8nclzckbcD4wxXMidpX30sFd37Fv/GtwwhzhxGVAprjbg0gCAEeIgwCZyTV2Z1REEW8O4py0wsjeloKoMr6iCY6dP92H6Vw/oTyICIthibxjm/DfN9lVz8IqtqKYLUXfoKVMVQVVJOElGjrnnUt9T9wbgp8AyYKaGlqingHZU/uG2NTZSVqwHQTWkx9hxjkpWDaCg6Ckj5qebgBVbT3V3NNXMSiWSDdGV3hrtzla7J+duwPOToIg42ChPQOQjspnSlp1V+Gjdged7+8UN5CRAV7a5EdFNwCjEaBR27b3W890TE7g24NAP/mMDXRWrGoFPQI9ls/MWO2dWFAar/xcOIImbbpA3zgAAAABJRU5ErkJggg==);\n",
       "        }\n",
       "    </style>\n",
       "    <div>\n",
       "        <a href=\"https://bokeh.org\" target=\"_blank\" class=\"bk-notebook-logo\"></a>\n",
       "        <span id=\"p1001\">Loading BokehJS ...</span>\n",
       "    </div>\n"
      ]
     },
     "metadata": {},
     "output_type": "display_data"
    },
    {
     "data": {
      "application/javascript": [
       "(function(root) {\n",
       "  function now() {\n",
       "    return new Date();\n",
       "  }\n",
       "\n",
       "  const force = true;\n",
       "\n",
       "  if (typeof root._bokeh_onload_callbacks === \"undefined\" || force === true) {\n",
       "    root._bokeh_onload_callbacks = [];\n",
       "    root._bokeh_is_loading = undefined;\n",
       "  }\n",
       "\n",
       "const JS_MIME_TYPE = 'application/javascript';\n",
       "  const HTML_MIME_TYPE = 'text/html';\n",
       "  const EXEC_MIME_TYPE = 'application/vnd.bokehjs_exec.v0+json';\n",
       "  const CLASS_NAME = 'output_bokeh rendered_html';\n",
       "\n",
       "  /**\n",
       "   * Render data to the DOM node\n",
       "   */\n",
       "  function render(props, node) {\n",
       "    const script = document.createElement(\"script\");\n",
       "    node.appendChild(script);\n",
       "  }\n",
       "\n",
       "  /**\n",
       "   * Handle when an output is cleared or removed\n",
       "   */\n",
       "  function handleClearOutput(event, handle) {\n",
       "    const cell = handle.cell;\n",
       "\n",
       "    const id = cell.output_area._bokeh_element_id;\n",
       "    const server_id = cell.output_area._bokeh_server_id;\n",
       "    // Clean up Bokeh references\n",
       "    if (id != null && id in Bokeh.index) {\n",
       "      Bokeh.index[id].model.document.clear();\n",
       "      delete Bokeh.index[id];\n",
       "    }\n",
       "\n",
       "    if (server_id !== undefined) {\n",
       "      // Clean up Bokeh references\n",
       "      const cmd_clean = \"from bokeh.io.state import curstate; print(curstate().uuid_to_server['\" + server_id + \"'].get_sessions()[0].document.roots[0]._id)\";\n",
       "      cell.notebook.kernel.execute(cmd_clean, {\n",
       "        iopub: {\n",
       "          output: function(msg) {\n",
       "            const id = msg.content.text.trim();\n",
       "            if (id in Bokeh.index) {\n",
       "              Bokeh.index[id].model.document.clear();\n",
       "              delete Bokeh.index[id];\n",
       "            }\n",
       "          }\n",
       "        }\n",
       "      });\n",
       "      // Destroy server and session\n",
       "      const cmd_destroy = \"import bokeh.io.notebook as ion; ion.destroy_server('\" + server_id + \"')\";\n",
       "      cell.notebook.kernel.execute(cmd_destroy);\n",
       "    }\n",
       "  }\n",
       "\n",
       "  /**\n",
       "   * Handle when a new output is added\n",
       "   */\n",
       "  function handleAddOutput(event, handle) {\n",
       "    const output_area = handle.output_area;\n",
       "    const output = handle.output;\n",
       "\n",
       "    // limit handleAddOutput to display_data with EXEC_MIME_TYPE content only\n",
       "    if ((output.output_type != \"display_data\") || (!Object.prototype.hasOwnProperty.call(output.data, EXEC_MIME_TYPE))) {\n",
       "      return\n",
       "    }\n",
       "\n",
       "    const toinsert = output_area.element.find(\".\" + CLASS_NAME.split(' ')[0]);\n",
       "\n",
       "    if (output.metadata[EXEC_MIME_TYPE][\"id\"] !== undefined) {\n",
       "      toinsert[toinsert.length - 1].firstChild.textContent = output.data[JS_MIME_TYPE];\n",
       "      // store reference to embed id on output_area\n",
       "      output_area._bokeh_element_id = output.metadata[EXEC_MIME_TYPE][\"id\"];\n",
       "    }\n",
       "    if (output.metadata[EXEC_MIME_TYPE][\"server_id\"] !== undefined) {\n",
       "      const bk_div = document.createElement(\"div\");\n",
       "      bk_div.innerHTML = output.data[HTML_MIME_TYPE];\n",
       "      const script_attrs = bk_div.children[0].attributes;\n",
       "      for (let i = 0; i < script_attrs.length; i++) {\n",
       "        toinsert[toinsert.length - 1].firstChild.setAttribute(script_attrs[i].name, script_attrs[i].value);\n",
       "        toinsert[toinsert.length - 1].firstChild.textContent = bk_div.children[0].textContent\n",
       "      }\n",
       "      // store reference to server id on output_area\n",
       "      output_area._bokeh_server_id = output.metadata[EXEC_MIME_TYPE][\"server_id\"];\n",
       "    }\n",
       "  }\n",
       "\n",
       "  function register_renderer(events, OutputArea) {\n",
       "\n",
       "    function append_mime(data, metadata, element) {\n",
       "      // create a DOM node to render to\n",
       "      const toinsert = this.create_output_subarea(\n",
       "        metadata,\n",
       "        CLASS_NAME,\n",
       "        EXEC_MIME_TYPE\n",
       "      );\n",
       "      this.keyboard_manager.register_events(toinsert);\n",
       "      // Render to node\n",
       "      const props = {data: data, metadata: metadata[EXEC_MIME_TYPE]};\n",
       "      render(props, toinsert[toinsert.length - 1]);\n",
       "      element.append(toinsert);\n",
       "      return toinsert\n",
       "    }\n",
       "\n",
       "    /* Handle when an output is cleared or removed */\n",
       "    events.on('clear_output.CodeCell', handleClearOutput);\n",
       "    events.on('delete.Cell', handleClearOutput);\n",
       "\n",
       "    /* Handle when a new output is added */\n",
       "    events.on('output_added.OutputArea', handleAddOutput);\n",
       "\n",
       "    /**\n",
       "     * Register the mime type and append_mime function with output_area\n",
       "     */\n",
       "    OutputArea.prototype.register_mime_type(EXEC_MIME_TYPE, append_mime, {\n",
       "      /* Is output safe? */\n",
       "      safe: true,\n",
       "      /* Index of renderer in `output_area.display_order` */\n",
       "      index: 0\n",
       "    });\n",
       "  }\n",
       "\n",
       "  // register the mime type if in Jupyter Notebook environment and previously unregistered\n",
       "  if (root.Jupyter !== undefined) {\n",
       "    const events = require('base/js/events');\n",
       "    const OutputArea = require('notebook/js/outputarea').OutputArea;\n",
       "\n",
       "    if (OutputArea.prototype.mime_types().indexOf(EXEC_MIME_TYPE) == -1) {\n",
       "      register_renderer(events, OutputArea);\n",
       "    }\n",
       "  }\n",
       "  if (typeof (root._bokeh_timeout) === \"undefined\" || force === true) {\n",
       "    root._bokeh_timeout = Date.now() + 5000;\n",
       "    root._bokeh_failed_load = false;\n",
       "  }\n",
       "\n",
       "  const NB_LOAD_WARNING = {'data': {'text/html':\n",
       "     \"<div style='background-color: #fdd'>\\n\"+\n",
       "     \"<p>\\n\"+\n",
       "     \"BokehJS does not appear to have successfully loaded. If loading BokehJS from CDN, this \\n\"+\n",
       "     \"may be due to a slow or bad network connection. Possible fixes:\\n\"+\n",
       "     \"</p>\\n\"+\n",
       "     \"<ul>\\n\"+\n",
       "     \"<li>re-rerun `output_notebook()` to attempt to load from CDN again, or</li>\\n\"+\n",
       "     \"<li>use INLINE resources instead, as so:</li>\\n\"+\n",
       "     \"</ul>\\n\"+\n",
       "     \"<code>\\n\"+\n",
       "     \"from bokeh.resources import INLINE\\n\"+\n",
       "     \"output_notebook(resources=INLINE)\\n\"+\n",
       "     \"</code>\\n\"+\n",
       "     \"</div>\"}};\n",
       "\n",
       "  function display_loaded() {\n",
       "    const el = document.getElementById(\"p1001\");\n",
       "    if (el != null) {\n",
       "      el.textContent = \"BokehJS is loading...\";\n",
       "    }\n",
       "    if (root.Bokeh !== undefined) {\n",
       "      if (el != null) {\n",
       "        el.textContent = \"BokehJS \" + root.Bokeh.version + \" successfully loaded.\";\n",
       "      }\n",
       "    } else if (Date.now() < root._bokeh_timeout) {\n",
       "      setTimeout(display_loaded, 100)\n",
       "    }\n",
       "  }\n",
       "\n",
       "  function run_callbacks() {\n",
       "    try {\n",
       "      root._bokeh_onload_callbacks.forEach(function(callback) {\n",
       "        if (callback != null)\n",
       "          callback();\n",
       "      });\n",
       "    } finally {\n",
       "      delete root._bokeh_onload_callbacks\n",
       "    }\n",
       "    console.debug(\"Bokeh: all callbacks have finished\");\n",
       "  }\n",
       "\n",
       "  function load_libs(css_urls, js_urls, callback) {\n",
       "    if (css_urls == null) css_urls = [];\n",
       "    if (js_urls == null) js_urls = [];\n",
       "\n",
       "    root._bokeh_onload_callbacks.push(callback);\n",
       "    if (root._bokeh_is_loading > 0) {\n",
       "      console.debug(\"Bokeh: BokehJS is being loaded, scheduling callback at\", now());\n",
       "      return null;\n",
       "    }\n",
       "    if (js_urls == null || js_urls.length === 0) {\n",
       "      run_callbacks();\n",
       "      return null;\n",
       "    }\n",
       "    console.debug(\"Bokeh: BokehJS not loaded, scheduling load and callback at\", now());\n",
       "    root._bokeh_is_loading = css_urls.length + js_urls.length;\n",
       "\n",
       "    function on_load() {\n",
       "      root._bokeh_is_loading--;\n",
       "      if (root._bokeh_is_loading === 0) {\n",
       "        console.debug(\"Bokeh: all BokehJS libraries/stylesheets loaded\");\n",
       "        run_callbacks()\n",
       "      }\n",
       "    }\n",
       "\n",
       "    function on_error(url) {\n",
       "      console.error(\"failed to load \" + url);\n",
       "    }\n",
       "\n",
       "    for (let i = 0; i < css_urls.length; i++) {\n",
       "      const url = css_urls[i];\n",
       "      const element = document.createElement(\"link\");\n",
       "      element.onload = on_load;\n",
       "      element.onerror = on_error.bind(null, url);\n",
       "      element.rel = \"stylesheet\";\n",
       "      element.type = \"text/css\";\n",
       "      element.href = url;\n",
       "      console.debug(\"Bokeh: injecting link tag for BokehJS stylesheet: \", url);\n",
       "      document.body.appendChild(element);\n",
       "    }\n",
       "\n",
       "    for (let i = 0; i < js_urls.length; i++) {\n",
       "      const url = js_urls[i];\n",
       "      const element = document.createElement('script');\n",
       "      element.onload = on_load;\n",
       "      element.onerror = on_error.bind(null, url);\n",
       "      element.async = false;\n",
       "      element.src = url;\n",
       "      console.debug(\"Bokeh: injecting script tag for BokehJS library: \", url);\n",
       "      document.head.appendChild(element);\n",
       "    }\n",
       "  };\n",
       "\n",
       "  function inject_raw_css(css) {\n",
       "    const element = document.createElement(\"style\");\n",
       "    element.appendChild(document.createTextNode(css));\n",
       "    document.body.appendChild(element);\n",
       "  }\n",
       "\n",
       "  const js_urls = [\"https://cdn.bokeh.org/bokeh/release/bokeh-3.1.0.min.js\", \"https://cdn.bokeh.org/bokeh/release/bokeh-gl-3.1.0.min.js\", \"https://cdn.bokeh.org/bokeh/release/bokeh-widgets-3.1.0.min.js\", \"https://cdn.bokeh.org/bokeh/release/bokeh-tables-3.1.0.min.js\", \"https://cdn.bokeh.org/bokeh/release/bokeh-mathjax-3.1.0.min.js\"];\n",
       "  const css_urls = [];\n",
       "\n",
       "  const inline_js = [    function(Bokeh) {\n",
       "      Bokeh.set_log_level(\"info\");\n",
       "    },\n",
       "function(Bokeh) {\n",
       "    }\n",
       "  ];\n",
       "\n",
       "  function run_inline_js() {\n",
       "    if (root.Bokeh !== undefined || force === true) {\n",
       "          for (let i = 0; i < inline_js.length; i++) {\n",
       "      inline_js[i].call(root, root.Bokeh);\n",
       "    }\n",
       "if (force === true) {\n",
       "        display_loaded();\n",
       "      }} else if (Date.now() < root._bokeh_timeout) {\n",
       "      setTimeout(run_inline_js, 100);\n",
       "    } else if (!root._bokeh_failed_load) {\n",
       "      console.log(\"Bokeh: BokehJS failed to load within specified timeout.\");\n",
       "      root._bokeh_failed_load = true;\n",
       "    } else if (force !== true) {\n",
       "      const cell = $(document.getElementById(\"p1001\")).parents('.cell').data().cell;\n",
       "      cell.output_area.append_execute_result(NB_LOAD_WARNING)\n",
       "    }\n",
       "  }\n",
       "\n",
       "  if (root._bokeh_is_loading === 0) {\n",
       "    console.debug(\"Bokeh: BokehJS loaded, going straight to plotting\");\n",
       "    run_inline_js();\n",
       "  } else {\n",
       "    load_libs(css_urls, js_urls, function() {\n",
       "      console.debug(\"Bokeh: BokehJS plotting callback run at\", now());\n",
       "      run_inline_js();\n",
       "    });\n",
       "  }\n",
       "}(window));"
      ],
      "application/vnd.bokehjs_load.v0+json": "(function(root) {\n  function now() {\n    return new Date();\n  }\n\n  const force = true;\n\n  if (typeof root._bokeh_onload_callbacks === \"undefined\" || force === true) {\n    root._bokeh_onload_callbacks = [];\n    root._bokeh_is_loading = undefined;\n  }\n\n\n  if (typeof (root._bokeh_timeout) === \"undefined\" || force === true) {\n    root._bokeh_timeout = Date.now() + 5000;\n    root._bokeh_failed_load = false;\n  }\n\n  const NB_LOAD_WARNING = {'data': {'text/html':\n     \"<div style='background-color: #fdd'>\\n\"+\n     \"<p>\\n\"+\n     \"BokehJS does not appear to have successfully loaded. If loading BokehJS from CDN, this \\n\"+\n     \"may be due to a slow or bad network connection. Possible fixes:\\n\"+\n     \"</p>\\n\"+\n     \"<ul>\\n\"+\n     \"<li>re-rerun `output_notebook()` to attempt to load from CDN again, or</li>\\n\"+\n     \"<li>use INLINE resources instead, as so:</li>\\n\"+\n     \"</ul>\\n\"+\n     \"<code>\\n\"+\n     \"from bokeh.resources import INLINE\\n\"+\n     \"output_notebook(resources=INLINE)\\n\"+\n     \"</code>\\n\"+\n     \"</div>\"}};\n\n  function display_loaded() {\n    const el = document.getElementById(\"p1001\");\n    if (el != null) {\n      el.textContent = \"BokehJS is loading...\";\n    }\n    if (root.Bokeh !== undefined) {\n      if (el != null) {\n        el.textContent = \"BokehJS \" + root.Bokeh.version + \" successfully loaded.\";\n      }\n    } else if (Date.now() < root._bokeh_timeout) {\n      setTimeout(display_loaded, 100)\n    }\n  }\n\n  function run_callbacks() {\n    try {\n      root._bokeh_onload_callbacks.forEach(function(callback) {\n        if (callback != null)\n          callback();\n      });\n    } finally {\n      delete root._bokeh_onload_callbacks\n    }\n    console.debug(\"Bokeh: all callbacks have finished\");\n  }\n\n  function load_libs(css_urls, js_urls, callback) {\n    if (css_urls == null) css_urls = [];\n    if (js_urls == null) js_urls = [];\n\n    root._bokeh_onload_callbacks.push(callback);\n    if (root._bokeh_is_loading > 0) {\n      console.debug(\"Bokeh: BokehJS is being loaded, scheduling callback at\", now());\n      return null;\n    }\n    if (js_urls == null || js_urls.length === 0) {\n      run_callbacks();\n      return null;\n    }\n    console.debug(\"Bokeh: BokehJS not loaded, scheduling load and callback at\", now());\n    root._bokeh_is_loading = css_urls.length + js_urls.length;\n\n    function on_load() {\n      root._bokeh_is_loading--;\n      if (root._bokeh_is_loading === 0) {\n        console.debug(\"Bokeh: all BokehJS libraries/stylesheets loaded\");\n        run_callbacks()\n      }\n    }\n\n    function on_error(url) {\n      console.error(\"failed to load \" + url);\n    }\n\n    for (let i = 0; i < css_urls.length; i++) {\n      const url = css_urls[i];\n      const element = document.createElement(\"link\");\n      element.onload = on_load;\n      element.onerror = on_error.bind(null, url);\n      element.rel = \"stylesheet\";\n      element.type = \"text/css\";\n      element.href = url;\n      console.debug(\"Bokeh: injecting link tag for BokehJS stylesheet: \", url);\n      document.body.appendChild(element);\n    }\n\n    for (let i = 0; i < js_urls.length; i++) {\n      const url = js_urls[i];\n      const element = document.createElement('script');\n      element.onload = on_load;\n      element.onerror = on_error.bind(null, url);\n      element.async = false;\n      element.src = url;\n      console.debug(\"Bokeh: injecting script tag for BokehJS library: \", url);\n      document.head.appendChild(element);\n    }\n  };\n\n  function inject_raw_css(css) {\n    const element = document.createElement(\"style\");\n    element.appendChild(document.createTextNode(css));\n    document.body.appendChild(element);\n  }\n\n  const js_urls = [\"https://cdn.bokeh.org/bokeh/release/bokeh-3.1.0.min.js\", \"https://cdn.bokeh.org/bokeh/release/bokeh-gl-3.1.0.min.js\", \"https://cdn.bokeh.org/bokeh/release/bokeh-widgets-3.1.0.min.js\", \"https://cdn.bokeh.org/bokeh/release/bokeh-tables-3.1.0.min.js\", \"https://cdn.bokeh.org/bokeh/release/bokeh-mathjax-3.1.0.min.js\"];\n  const css_urls = [];\n\n  const inline_js = [    function(Bokeh) {\n      Bokeh.set_log_level(\"info\");\n    },\nfunction(Bokeh) {\n    }\n  ];\n\n  function run_inline_js() {\n    if (root.Bokeh !== undefined || force === true) {\n          for (let i = 0; i < inline_js.length; i++) {\n      inline_js[i].call(root, root.Bokeh);\n    }\nif (force === true) {\n        display_loaded();\n      }} else if (Date.now() < root._bokeh_timeout) {\n      setTimeout(run_inline_js, 100);\n    } else if (!root._bokeh_failed_load) {\n      console.log(\"Bokeh: BokehJS failed to load within specified timeout.\");\n      root._bokeh_failed_load = true;\n    } else if (force !== true) {\n      const cell = $(document.getElementById(\"p1001\")).parents('.cell').data().cell;\n      cell.output_area.append_execute_result(NB_LOAD_WARNING)\n    }\n  }\n\n  if (root._bokeh_is_loading === 0) {\n    console.debug(\"Bokeh: BokehJS loaded, going straight to plotting\");\n    run_inline_js();\n  } else {\n    load_libs(css_urls, js_urls, function() {\n      console.debug(\"Bokeh: BokehJS plotting callback run at\", now());\n      run_inline_js();\n    });\n  }\n}(window));"
     },
     "metadata": {},
     "output_type": "display_data"
    }
   ],
   "source": [
    "import numpy as np # we will use this later, so import it now\n",
    "\n",
    "from bokeh.io import output_notebook, show\n",
    "from bokeh.plotting import figure\n",
    "\n",
    "output_notebook()"
   ]
  },
  {
   "cell_type": "markdown",
   "id": "9d41b407",
   "metadata": {},
   "source": [
    "### OK - Epigrammes par livre "
   ]
  },
  {
   "cell_type": "code",
   "execution_count": 41,
   "id": "45d138d1",
   "metadata": {},
   "outputs": [
    {
     "name": "stdout",
     "output_type": "stream",
     "text": [
      "Livre : 1, Nombre d'éléments : 123\n",
      "Livre : 2, Nombre d'éléments : 10\n",
      "Livre : 3, Nombre d'éléments : 19\n",
      "Livre : 4, Nombre d'éléments : 5\n",
      "Livre : 5, Nombre d'éléments : 310\n",
      "Livre : 6, Nombre d'éléments : 359\n",
      "Livre : 7, Nombre d'éléments : 758\n",
      "Livre : 8, Nombre d'éléments : 258\n",
      "Livre : 9, Nombre d'éléments : 831\n",
      "Livre : 10, Nombre d'éléments : 127\n",
      "Livre : 11, Nombre d'éléments : 443\n",
      "Livre : 12, Nombre d'éléments : 260\n",
      "Livre : 13, Nombre d'éléments : 32\n",
      "Livre : 14, Nombre d'éléments : 151\n",
      "Livre : 15, Nombre d'éléments : 52\n",
      "Livre : 16, Nombre d'éléments : 396\n"
     ]
    }
   ],
   "source": [
    "# Dictionnaire pour stocker les compteurs de chaque livre\n",
    "compteurs_livres = {}\n",
    "\n",
    "# Comptage des éléments par livre\n",
    "for element in api_data:\n",
    "    url_livre = element['book']['number']\n",
    "    \n",
    "    # Vérification de l'existence de la clé dans le dictionnaire\n",
    "    if url_livre in compteurs_livres:\n",
    "        # Incrémentation du compteur\n",
    "        compteurs_livres[url_livre] += 1\n",
    "    else:\n",
    "        # Initialisation du compteur\n",
    "        compteurs_livres[url_livre] = 1\n",
    "\n",
    "# Affichage des résultats\n",
    "for url_livre, compteurs in compteurs_livres.items():\n",
    "    print(f\"Livre : {url_livre}, Nombre d'éléments : {compteurs}\")\n"
   ]
  },
  {
   "cell_type": "code",
   "execution_count": 42,
   "id": "5427d3ed",
   "metadata": {},
   "outputs": [
    {
     "data": {
      "text/html": [
       "\n",
       "  <div id=\"b3460263-d8c5-4644-9c70-f35369f51370\" data-root-id=\"p1002\" style=\"display: contents;\"></div>\n"
      ]
     },
     "metadata": {},
     "output_type": "display_data"
    },
    {
     "data": {
      "application/javascript": [
       "(function(root) {\n",
       "  function embed_document(root) {\n",
       "  const docs_json = {\"f234bb7c-2cb3-47f0-95a5-b0dcafbecb74\":{\"version\":\"3.1.0\",\"title\":\"Bokeh Application\",\"defs\":[],\"roots\":[{\"type\":\"object\",\"name\":\"Figure\",\"id\":\"p1002\",\"attributes\":{\"width\":400,\"height\":400,\"x_range\":{\"type\":\"object\",\"name\":\"DataRange1d\",\"id\":\"p1004\"},\"y_range\":{\"type\":\"object\",\"name\":\"DataRange1d\",\"id\":\"p1003\"},\"x_scale\":{\"type\":\"object\",\"name\":\"LinearScale\",\"id\":\"p1015\"},\"y_scale\":{\"type\":\"object\",\"name\":\"LinearScale\",\"id\":\"p1017\"},\"title\":{\"type\":\"object\",\"name\":\"Title\",\"id\":\"p1005\"},\"renderers\":[{\"type\":\"object\",\"name\":\"GlyphRenderer\",\"id\":\"p1054\",\"attributes\":{\"data_source\":{\"type\":\"object\",\"name\":\"ColumnDataSource\",\"id\":\"p1048\",\"attributes\":{\"selected\":{\"type\":\"object\",\"name\":\"Selection\",\"id\":\"p1050\",\"attributes\":{\"indices\":[],\"line_indices\":[]}},\"selection_policy\":{\"type\":\"object\",\"name\":\"UnionRenderers\",\"id\":\"p1049\"},\"data\":{\"type\":\"map\",\"entries\":[[\"x\",[1,2,3,4,5,6,7,8,9,10,11,12,13,14,15,16]],[\"y\",[123,10,19,5,310,359,758,258,831,127,443,260,32,151,52,396]]]}}},\"view\":{\"type\":\"object\",\"name\":\"CDSView\",\"id\":\"p1055\",\"attributes\":{\"filter\":{\"type\":\"object\",\"name\":\"AllIndices\",\"id\":\"p1056\"}}},\"glyph\":{\"type\":\"object\",\"name\":\"Scatter\",\"id\":\"p1051\",\"attributes\":{\"x\":{\"type\":\"field\",\"field\":\"x\"},\"y\":{\"type\":\"field\",\"field\":\"y\"},\"size\":{\"type\":\"value\",\"value\":15},\"line_color\":{\"type\":\"value\",\"value\":\"navy\"},\"fill_color\":{\"type\":\"value\",\"value\":\"orange\"},\"fill_alpha\":{\"type\":\"value\",\"value\":0.5},\"marker\":{\"type\":\"value\",\"value\":\"hex\"}}},\"nonselection_glyph\":{\"type\":\"object\",\"name\":\"Scatter\",\"id\":\"p1052\",\"attributes\":{\"x\":{\"type\":\"field\",\"field\":\"x\"},\"y\":{\"type\":\"field\",\"field\":\"y\"},\"size\":{\"type\":\"value\",\"value\":15},\"line_color\":{\"type\":\"value\",\"value\":\"navy\"},\"line_alpha\":{\"type\":\"value\",\"value\":0.1},\"fill_color\":{\"type\":\"value\",\"value\":\"orange\"},\"fill_alpha\":{\"type\":\"value\",\"value\":0.1},\"hatch_alpha\":{\"type\":\"value\",\"value\":0.1},\"marker\":{\"type\":\"value\",\"value\":\"hex\"}}},\"muted_glyph\":{\"type\":\"object\",\"name\":\"Scatter\",\"id\":\"p1053\",\"attributes\":{\"x\":{\"type\":\"field\",\"field\":\"x\"},\"y\":{\"type\":\"field\",\"field\":\"y\"},\"size\":{\"type\":\"value\",\"value\":15},\"line_color\":{\"type\":\"value\",\"value\":\"navy\"},\"line_alpha\":{\"type\":\"value\",\"value\":0.2},\"fill_color\":{\"type\":\"value\",\"value\":\"orange\"},\"fill_alpha\":{\"type\":\"value\",\"value\":0.2},\"hatch_alpha\":{\"type\":\"value\",\"value\":0.2},\"marker\":{\"type\":\"value\",\"value\":\"hex\"}}}}}],\"toolbar\":{\"type\":\"object\",\"name\":\"Toolbar\",\"id\":\"p1008\",\"attributes\":{\"tools\":[{\"type\":\"object\",\"name\":\"PanTool\",\"id\":\"p1033\"},{\"type\":\"object\",\"name\":\"WheelZoomTool\",\"id\":\"p1034\"},{\"type\":\"object\",\"name\":\"BoxZoomTool\",\"id\":\"p1035\",\"attributes\":{\"overlay\":{\"type\":\"object\",\"name\":\"BoxAnnotation\",\"id\":\"p1036\",\"attributes\":{\"syncable\":false,\"level\":\"overlay\",\"visible\":false,\"left_units\":\"canvas\",\"right_units\":\"canvas\",\"bottom_units\":\"canvas\",\"top_units\":\"canvas\",\"line_color\":\"black\",\"line_alpha\":1.0,\"line_width\":2,\"line_dash\":[4,4],\"fill_color\":\"lightgrey\",\"fill_alpha\":0.5}}}},{\"type\":\"object\",\"name\":\"SaveTool\",\"id\":\"p1037\"},{\"type\":\"object\",\"name\":\"ResetTool\",\"id\":\"p1038\"},{\"type\":\"object\",\"name\":\"HelpTool\",\"id\":\"p1039\"}]}},\"left\":[{\"type\":\"object\",\"name\":\"LinearAxis\",\"id\":\"p1026\",\"attributes\":{\"ticker\":{\"type\":\"object\",\"name\":\"BasicTicker\",\"id\":\"p1027\",\"attributes\":{\"mantissas\":[1,2,5]}},\"formatter\":{\"type\":\"object\",\"name\":\"BasicTickFormatter\",\"id\":\"p1028\"},\"major_label_policy\":{\"type\":\"object\",\"name\":\"AllLabels\",\"id\":\"p1029\"}}}],\"below\":[{\"type\":\"object\",\"name\":\"LinearAxis\",\"id\":\"p1019\",\"attributes\":{\"ticker\":{\"type\":\"object\",\"name\":\"BasicTicker\",\"id\":\"p1020\",\"attributes\":{\"mantissas\":[1,2,5]}},\"formatter\":{\"type\":\"object\",\"name\":\"BasicTickFormatter\",\"id\":\"p1021\"},\"major_label_policy\":{\"type\":\"object\",\"name\":\"AllLabels\",\"id\":\"p1022\"}}}],\"center\":[{\"type\":\"object\",\"name\":\"Grid\",\"id\":\"p1025\",\"attributes\":{\"axis\":{\"id\":\"p1019\"}}},{\"type\":\"object\",\"name\":\"Grid\",\"id\":\"p1032\",\"attributes\":{\"dimension\":1,\"axis\":{\"id\":\"p1026\"}}}]}}],\"callbacks\":{\"type\":\"map\"}}};\n",
       "  const render_items = [{\"docid\":\"f234bb7c-2cb3-47f0-95a5-b0dcafbecb74\",\"roots\":{\"p1002\":\"b3460263-d8c5-4644-9c70-f35369f51370\"},\"root_ids\":[\"p1002\"]}];\n",
       "  root.Bokeh.embed.embed_items_notebook(docs_json, render_items);\n",
       "  }\n",
       "  if (root.Bokeh !== undefined) {\n",
       "    embed_document(root);\n",
       "  } else {\n",
       "    let attempts = 0;\n",
       "    const timer = setInterval(function(root) {\n",
       "      if (root.Bokeh !== undefined) {\n",
       "        clearInterval(timer);\n",
       "        embed_document(root);\n",
       "      } else {\n",
       "        attempts++;\n",
       "        if (attempts > 100) {\n",
       "          clearInterval(timer);\n",
       "          console.log(\"Bokeh: ERROR: Unable to run BokehJS code because BokehJS library is missing\");\n",
       "        }\n",
       "      }\n",
       "    }, 10, root)\n",
       "  }\n",
       "})(window);"
      ],
      "application/vnd.bokehjs_exec.v0+json": ""
     },
     "metadata": {
      "application/vnd.bokehjs_exec.v0+json": {
       "id": "p1002"
      }
     },
     "output_type": "display_data"
    }
   ],
   "source": [
    "# create a new plot with default tools, using figure\n",
    "p = figure(width=400, height=400)\n",
    "\n",
    "# add a circle renderer with x and y coordinates, size, color, and alpha\n",
    "p.hex(list(compteurs_livres.keys()), list(compteurs_livres.values()), size=15, line_color=\"navy\", fill_color=\"orange\", fill_alpha=0.5)\n",
    "\n",
    "show(p) # show the results"
   ]
  },
  {
   "cell_type": "markdown",
   "id": "14a378df",
   "metadata": {},
   "source": [
    "Nous pouvons également représenter cela dans un Pie Chart interactif ! "
   ]
  },
  {
   "cell_type": "code",
   "execution_count": 43,
   "id": "d90b506a",
   "metadata": {},
   "outputs": [
    {
     "data": {
      "text/html": [
       "\n",
       "  <div id=\"21027acc-abbd-4d35-8bc3-c8e22f936b90\" data-root-id=\"p1141\" style=\"display: contents;\"></div>\n"
      ]
     },
     "metadata": {},
     "output_type": "display_data"
    },
    {
     "data": {
      "application/javascript": [
       "(function(root) {\n",
       "  function embed_document(root) {\n",
       "  const docs_json = {\"5e0f7cae-1e15-468f-b3a5-a8347f8604f1\":{\"version\":\"3.1.0\",\"title\":\"Bokeh Application\",\"defs\":[],\"roots\":[{\"type\":\"object\",\"name\":\"Figure\",\"id\":\"p1141\",\"attributes\":{\"height\":450,\"x_range\":{\"type\":\"object\",\"name\":\"DataRange1d\",\"id\":\"p1143\"},\"y_range\":{\"type\":\"object\",\"name\":\"DataRange1d\",\"id\":\"p1142\"},\"x_scale\":{\"type\":\"object\",\"name\":\"LinearScale\",\"id\":\"p1155\"},\"y_scale\":{\"type\":\"object\",\"name\":\"LinearScale\",\"id\":\"p1157\"},\"title\":{\"type\":\"object\",\"name\":\"Title\",\"id\":\"p1144\",\"attributes\":{\"text\":\"Nombre d'\\u00e9pigrammes par livre\"}},\"renderers\":[{\"type\":\"object\",\"name\":\"GlyphRenderer\",\"id\":\"p1187\",\"attributes\":{\"data_source\":{\"type\":\"object\",\"name\":\"ColumnDataSource\",\"id\":\"p1178\",\"attributes\":{\"selected\":{\"type\":\"object\",\"name\":\"Selection\",\"id\":\"p1180\",\"attributes\":{\"indices\":[],\"line_indices\":[]}},\"selection_policy\":{\"type\":\"object\",\"name\":\"UnionRenderers\",\"id\":\"p1179\"},\"data\":{\"type\":\"map\",\"entries\":[[\"index\",{\"type\":\"ndarray\",\"array\":{\"type\":\"bytes\",\"data\":\"AAAAAAEAAAACAAAAAwAAAAQAAAAFAAAABgAAAAcAAAAIAAAACQAAAAoAAAALAAAADAAAAA0AAAAOAAAADwAAAA==\"},\"shape\":[16],\"dtype\":\"int32\",\"order\":\"little\"}],[\"livre\",{\"type\":\"ndarray\",\"array\":{\"type\":\"bytes\",\"data\":\"AQAAAAIAAAADAAAABAAAAAUAAAAGAAAABwAAAAgAAAAJAAAACgAAAAsAAAAMAAAADQAAAA4AAAAPAAAAEAAAAA==\"},\"shape\":[16],\"dtype\":\"int32\",\"order\":\"little\"}],[\"value\",{\"type\":\"ndarray\",\"array\":{\"type\":\"bytes\",\"data\":\"ewAAAAoAAAATAAAABQAAADYBAABnAQAA9gIAAAIBAAA/AwAAfwAAALsBAAAEAQAAIAAAAJcAAAA0AAAAjAEAAA==\"},\"shape\":[16],\"dtype\":\"int32\",\"order\":\"little\"}],[\"color\",{\"type\":\"ndarray\",\"array\":[\"#3182bd\",\"#6baed6\",\"#9ecae1\",\"#c6dbef\",\"#e6550d\",\"#fd8d3c\",\"#fdae6b\",\"#fdd0a2\",\"#31a354\",\"#74c476\",\"#a1d99b\",\"#c7e9c0\",\"#756bb1\",\"#9e9ac8\",\"#bcbddc\",\"#dadaeb\"],\"shape\":[16],\"dtype\":\"object\",\"order\":\"little\"}],[\"angle\",{\"type\":\"ndarray\",\"array\":{\"type\":\"bytes\",\"data\":\"n9OartLtxz8okM3ajCCPPyZ8dmkfkp0/KJDN2owgfz+mI/dziCfeP3boiM/bdeE/+FRfNuBu8j+gIpzDpBjZP8qnpgtVNfQ/n11GZwm1yD/8fA0Zu4vlPyAFx3FyStk/H0BxFdfmqD+lmUu7UWDNPxoEbMGOO7Q/mZeVWopC4z8=\"},\"shape\":[16],\"dtype\":\"float64\",\"order\":\"little\"}]]}}},\"view\":{\"type\":\"object\",\"name\":\"CDSView\",\"id\":\"p1188\",\"attributes\":{\"filter\":{\"type\":\"object\",\"name\":\"AllIndices\",\"id\":\"p1189\"}}},\"glyph\":{\"type\":\"object\",\"name\":\"Wedge\",\"id\":\"p1184\",\"attributes\":{\"x\":{\"type\":\"value\",\"value\":0},\"y\":{\"type\":\"value\",\"value\":1},\"radius\":{\"type\":\"value\",\"value\":0.4},\"start_angle\":{\"type\":\"expr\",\"expr\":{\"type\":\"object\",\"name\":\"CumSum\",\"id\":\"p1176\",\"attributes\":{\"field\":\"angle\",\"include_zero\":true}}},\"end_angle\":{\"type\":\"expr\",\"expr\":{\"type\":\"object\",\"name\":\"CumSum\",\"id\":\"p1177\",\"attributes\":{\"field\":\"angle\"}}},\"line_color\":{\"type\":\"value\",\"value\":\"white\"},\"fill_color\":{\"type\":\"field\",\"field\":\"color\"}}},\"nonselection_glyph\":{\"type\":\"object\",\"name\":\"Wedge\",\"id\":\"p1185\",\"attributes\":{\"x\":{\"type\":\"value\",\"value\":0},\"y\":{\"type\":\"value\",\"value\":1},\"radius\":{\"type\":\"value\",\"value\":0.4},\"start_angle\":{\"type\":\"expr\",\"expr\":{\"id\":\"p1176\"}},\"end_angle\":{\"type\":\"expr\",\"expr\":{\"id\":\"p1177\"}},\"line_color\":{\"type\":\"value\",\"value\":\"white\"},\"line_alpha\":{\"type\":\"value\",\"value\":0.1},\"fill_color\":{\"type\":\"field\",\"field\":\"color\"},\"fill_alpha\":{\"type\":\"value\",\"value\":0.1},\"hatch_alpha\":{\"type\":\"value\",\"value\":0.1}}},\"muted_glyph\":{\"type\":\"object\",\"name\":\"Wedge\",\"id\":\"p1186\",\"attributes\":{\"x\":{\"type\":\"value\",\"value\":0},\"y\":{\"type\":\"value\",\"value\":1},\"radius\":{\"type\":\"value\",\"value\":0.4},\"start_angle\":{\"type\":\"expr\",\"expr\":{\"id\":\"p1176\"}},\"end_angle\":{\"type\":\"expr\",\"expr\":{\"id\":\"p1177\"}},\"line_color\":{\"type\":\"value\",\"value\":\"white\"},\"line_alpha\":{\"type\":\"value\",\"value\":0.2},\"fill_color\":{\"type\":\"field\",\"field\":\"color\"},\"fill_alpha\":{\"type\":\"value\",\"value\":0.2},\"hatch_alpha\":{\"type\":\"value\",\"value\":0.2}}}}}],\"toolbar\":{\"type\":\"object\",\"name\":\"Toolbar\",\"id\":\"p1148\",\"attributes\":{\"tools\":[{\"type\":\"object\",\"name\":\"HoverTool\",\"id\":\"p1173\",\"attributes\":{\"renderers\":\"auto\",\"tooltips\":\"@livre: @value\"}}]}},\"toolbar_location\":null,\"left\":[{\"type\":\"object\",\"name\":\"LinearAxis\",\"id\":\"p1166\",\"attributes\":{\"visible\":false,\"ticker\":{\"type\":\"object\",\"name\":\"BasicTicker\",\"id\":\"p1167\",\"attributes\":{\"mantissas\":[1,2,5]}},\"formatter\":{\"type\":\"object\",\"name\":\"BasicTickFormatter\",\"id\":\"p1168\"},\"major_label_policy\":{\"type\":\"object\",\"name\":\"AllLabels\",\"id\":\"p1169\"}}}],\"below\":[{\"type\":\"object\",\"name\":\"LinearAxis\",\"id\":\"p1159\",\"attributes\":{\"visible\":false,\"ticker\":{\"type\":\"object\",\"name\":\"BasicTicker\",\"id\":\"p1160\",\"attributes\":{\"mantissas\":[1,2,5]}},\"formatter\":{\"type\":\"object\",\"name\":\"BasicTickFormatter\",\"id\":\"p1161\"},\"major_label_policy\":{\"type\":\"object\",\"name\":\"AllLabels\",\"id\":\"p1162\"}}}],\"center\":[{\"type\":\"object\",\"name\":\"Grid\",\"id\":\"p1165\",\"attributes\":{\"axis\":{\"id\":\"p1159\"},\"grid_line_color\":null}},{\"type\":\"object\",\"name\":\"Grid\",\"id\":\"p1172\",\"attributes\":{\"dimension\":1,\"axis\":{\"id\":\"p1166\"},\"grid_line_color\":null}},{\"type\":\"object\",\"name\":\"Legend\",\"id\":\"p1190\",\"attributes\":{\"items\":[{\"type\":\"object\",\"name\":\"LegendItem\",\"id\":\"p1191\",\"attributes\":{\"label\":{\"type\":\"field\",\"field\":\"livre\"},\"renderers\":[{\"id\":\"p1187\"}]}}]}}]}}],\"callbacks\":{\"type\":\"map\"}}};\n",
       "  const render_items = [{\"docid\":\"5e0f7cae-1e15-468f-b3a5-a8347f8604f1\",\"roots\":{\"p1141\":\"21027acc-abbd-4d35-8bc3-c8e22f936b90\"},\"root_ids\":[\"p1141\"]}];\n",
       "  root.Bokeh.embed.embed_items_notebook(docs_json, render_items);\n",
       "  }\n",
       "  if (root.Bokeh !== undefined) {\n",
       "    embed_document(root);\n",
       "  } else {\n",
       "    let attempts = 0;\n",
       "    const timer = setInterval(function(root) {\n",
       "      if (root.Bokeh !== undefined) {\n",
       "        clearInterval(timer);\n",
       "        embed_document(root);\n",
       "      } else {\n",
       "        attempts++;\n",
       "        if (attempts > 100) {\n",
       "          clearInterval(timer);\n",
       "          console.log(\"Bokeh: ERROR: Unable to run BokehJS code because BokehJS library is missing\");\n",
       "        }\n",
       "      }\n",
       "    }, 10, root)\n",
       "  }\n",
       "})(window);"
      ],
      "application/vnd.bokehjs_exec.v0+json": ""
     },
     "metadata": {
      "application/vnd.bokehjs_exec.v0+json": {
       "id": "p1141"
      }
     },
     "output_type": "display_data"
    }
   ],
   "source": [
    "from math import pi\n",
    "import pandas as pd\n",
    "from bokeh.palettes import Category20c\n",
    "from bokeh.transform import cumsum\n",
    "from bokeh.models import Legend, Wedge, ColumnDataSource\n",
    "\n",
    "x = compteurs_livres\n",
    "\n",
    "data = pd.Series(x).reset_index(name='value').rename(columns={'index':'livre'})\n",
    "data['color'] = Category20c[len(x)]\n",
    "\n",
    "# represent each value as an angle = value / total * 2pi\n",
    "data['angle'] = data['value']/data['value'].sum() * 2*pi\n",
    "\n",
    "p = figure(height=450, title=\"Nombre d'épigrammes par livre\", toolbar_location=None,\n",
    "           tools=\"hover\", tooltips=\"@livre: @value\")\n",
    "\n",
    "p.wedge(x=0, y=1, radius=0.4, \n",
    "        \n",
    "        # use cumsum to cumulatively sum the values for start and end angles\n",
    "        start_angle=cumsum('angle', include_zero=True), end_angle=cumsum('angle'),\n",
    "        line_color=\"white\", fill_color='color', legend_field='livre', source=data)\n",
    "\n",
    "p.axis.axis_label=None\n",
    "p.axis.visible=False\n",
    "p.grid.grid_line_color = None\n",
    "show(p)"
   ]
  },
  {
   "cell_type": "code",
   "execution_count": 44,
   "id": "0cd19f45",
   "metadata": {},
   "outputs": [],
   "source": []
  },
  {
   "cell_type": "code",
   "execution_count": null,
   "id": "30e5b282-dc1f-458e-8376-57b2cbcbf580",
   "metadata": {},
   "outputs": [],
   "source": []
  },
  {
   "cell_type": "code",
   "execution_count": null,
   "id": "f1144bb4",
   "metadata": {},
   "outputs": [],
   "source": []
  },
  {
   "cell_type": "code",
   "execution_count": null,
   "id": "f69f8c85-e3e2-4e8c-b5db-fc1ad8330e5f",
   "metadata": {},
   "outputs": [],
   "source": [
    "items=[]\n",
    "for i in range(len(api_data)):\n",
    "    id_ = api_data[i]['id']\n",
    "    langs_ = [i['language'] for i in api_data[i]['texts']]\n",
    "    items.append((id_,langs_))"
   ]
  },
  {
   "cell_type": "code",
   "execution_count": null,
   "id": "e37b11d8-739f-44fe-9692-4d9fbfa562db",
   "metadata": {},
   "outputs": [],
   "source": [
    "my_df=pd.DataFrame(items,columns=['id','langs'])\n",
    "my_df=my_df.explode('langs')\n",
    "my_langs = my_df['langs'].value_counts()\n",
    "#print(my_df[my_df['langs']=='deu'])"
   ]
  },
  {
   "cell_type": "code",
   "execution_count": null,
   "id": "a66d823f-6fe2-4720-bdd4-a297020ac68f",
   "metadata": {},
   "outputs": [],
   "source": [
    "for x in api_data:   \n",
    "    if x['id']==4049: \n",
    "        print(x['url'])"
   ]
  },
  {
   "cell_type": "code",
   "execution_count": null,
   "id": "be31c482-341b-4c7a-8110-5506a5fe6987",
   "metadata": {},
   "outputs": [],
   "source": [
    "my_langs_ = my_langs.rename_axis('Langue de Traduction').reset_index(name='Nombre de textes')\n",
    "#print(my_langs_)\n",
    "plt.figure(dpi=75)\n",
    "sns.barplot(data=my_langs_,x='Langue de Traduction',y='Nombre de textes',palette=\"hls\")"
   ]
  },
  {
   "cell_type": "code",
   "execution_count": null,
   "id": "15795b6a-e19f-4cec-82d6-db333bc25b58",
   "metadata": {},
   "outputs": [],
   "source": []
  },
  {
   "cell_type": "code",
   "execution_count": null,
   "id": "2e7c102d-4486-4063-b8ef-718614059ec0",
   "metadata": {},
   "outputs": [],
   "source": []
  },
  {
   "cell_type": "code",
   "execution_count": null,
   "id": "5b645c90-7e75-4af7-8622-b93be3996ca6",
   "metadata": {},
   "outputs": [],
   "source": []
  },
  {
   "cell_type": "code",
   "execution_count": null,
   "id": "dd86f619-616d-413d-8dcf-00a1356a2d88",
   "metadata": {},
   "outputs": [],
   "source": []
  },
  {
   "cell_type": "code",
   "execution_count": null,
   "id": "88c559a9-b43d-4c83-898a-a02f94845264",
   "metadata": {},
   "outputs": [],
   "source": []
  },
  {
   "cell_type": "code",
   "execution_count": null,
   "id": "baa26e8d-bb16-4c20-8752-04480db0288c",
   "metadata": {},
   "outputs": [],
   "source": []
  }
 ],
 "metadata": {
  "kernelspec": {
   "display_name": "Python 3 (ipykernel)",
   "language": "python",
   "name": "python3"
  },
  "language_info": {
   "codemirror_mode": {
    "name": "ipython",
    "version": 3
   },
   "file_extension": ".py",
   "mimetype": "text/x-python",
   "name": "python",
   "nbconvert_exporter": "python",
   "pygments_lexer": "ipython3",
   "version": "3.8.10"
  }
 },
 "nbformat": 4,
 "nbformat_minor": 5
}
